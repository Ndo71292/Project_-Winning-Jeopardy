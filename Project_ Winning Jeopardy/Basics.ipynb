{
 "cells": [
  {
   "cell_type": "markdown",
   "metadata": {
    "collapsed": true
   },
   "source": [
    "# Project :Winning Jeopardy"
   ]
  },
  {
   "cell_type": "markdown",
   "metadata": {},
   "source": [
    "## Introduction\n",
    "Jeopardy is a popular TV show in the US where participants answer questions to win money. It's been running for many years, and is a major force in popular culture.\n",
    "\n",
    "Imagine that we want to compete on Jeopardy, and we are looking for any way to win. In this project, we'll work with a dataset of Jeopardy questions to figure out some patterns in the questions that could help us win"
   ]
  },
  {
   "cell_type": "markdown",
   "metadata": {},
   "source": [
    "We will work with the dataset named jeopardy.csv, and contains 20000 rows from the beginning of a full dataset of Jeopardy questions"
   ]
  },
  {
   "cell_type": "code",
   "execution_count": 3,
   "metadata": {
    "collapsed": false
   },
   "outputs": [
    {
     "data": {
      "text/html": [
       "<img src=\"https://dq-content.s3.amazonaws.com/Nlfu13A.png\"/>"
      ],
      "text/plain": [
       "<IPython.core.display.Image object>"
      ]
     },
     "execution_count": 3,
     "metadata": {},
     "output_type": "execute_result"
    }
   ],
   "source": [
    "from IPython.display import Image\n",
    "\n",
    "# Replace the file path with the actual path to your image\n",
    "Image(url=\"https://dq-content.s3.amazonaws.com/Nlfu13A.png\")"
   ]
  },
  {
   "cell_type": "markdown",
   "metadata": {},
   "source": [
    "As you can see, each row in the dataset represents a single question on a single episode of Jeopardy. Here are explanations of each column:\n",
    "\n",
    "Show Number - the Jeopardy episode number\n",
    "\n",
    "Air Date - the date the episode aired\n",
    "\n",
    "Round - the round of Jeopardy\n",
    "\n",
    "Category - the category of the question\n",
    "\n",
    "Value - the number of dollars the correct answer is worth\n",
    "\n",
    "Question - the text of the question\n",
    "\n",
    "Answer - the text of the answer"
   ]
  },
  {
   "cell_type": "code",
   "execution_count": 4,
   "metadata": {
    "collapsed": true
   },
   "outputs": [],
   "source": [
    "#Read in the data \n",
    "import pandas as pd\n",
    "jeopardy = pd.read_csv('jeopardy.csv')"
   ]
  },
  {
   "cell_type": "code",
   "execution_count": 5,
   "metadata": {
    "collapsed": false,
    "scrolled": true
   },
   "outputs": [
    {
     "data": {
      "text/html": [
       "<div>\n",
       "<style scoped>\n",
       "    .dataframe tbody tr th:only-of-type {\n",
       "        vertical-align: middle;\n",
       "    }\n",
       "\n",
       "    .dataframe tbody tr th {\n",
       "        vertical-align: top;\n",
       "    }\n",
       "\n",
       "    .dataframe thead th {\n",
       "        text-align: right;\n",
       "    }\n",
       "</style>\n",
       "<table border=\"1\" class=\"dataframe\">\n",
       "  <thead>\n",
       "    <tr style=\"text-align: right;\">\n",
       "      <th></th>\n",
       "      <th>Show Number</th>\n",
       "      <th>Air Date</th>\n",
       "      <th>Round</th>\n",
       "      <th>Category</th>\n",
       "      <th>Value</th>\n",
       "      <th>Question</th>\n",
       "      <th>Answer</th>\n",
       "    </tr>\n",
       "  </thead>\n",
       "  <tbody>\n",
       "    <tr>\n",
       "      <th>0</th>\n",
       "      <td>4680</td>\n",
       "      <td>2004-12-31</td>\n",
       "      <td>Jeopardy!</td>\n",
       "      <td>HISTORY</td>\n",
       "      <td>$200</td>\n",
       "      <td>For the last 8 years of his life, Galileo was ...</td>\n",
       "      <td>Copernicus</td>\n",
       "    </tr>\n",
       "    <tr>\n",
       "      <th>1</th>\n",
       "      <td>4680</td>\n",
       "      <td>2004-12-31</td>\n",
       "      <td>Jeopardy!</td>\n",
       "      <td>ESPN's TOP 10 ALL-TIME ATHLETES</td>\n",
       "      <td>$200</td>\n",
       "      <td>No. 2: 1912 Olympian; football star at Carlisl...</td>\n",
       "      <td>Jim Thorpe</td>\n",
       "    </tr>\n",
       "    <tr>\n",
       "      <th>2</th>\n",
       "      <td>4680</td>\n",
       "      <td>2004-12-31</td>\n",
       "      <td>Jeopardy!</td>\n",
       "      <td>EVERYBODY TALKS ABOUT IT...</td>\n",
       "      <td>$200</td>\n",
       "      <td>The city of Yuma in this state has a record av...</td>\n",
       "      <td>Arizona</td>\n",
       "    </tr>\n",
       "    <tr>\n",
       "      <th>3</th>\n",
       "      <td>4680</td>\n",
       "      <td>2004-12-31</td>\n",
       "      <td>Jeopardy!</td>\n",
       "      <td>THE COMPANY LINE</td>\n",
       "      <td>$200</td>\n",
       "      <td>In 1963, live on \"The Art Linkletter Show\", th...</td>\n",
       "      <td>McDonald's</td>\n",
       "    </tr>\n",
       "    <tr>\n",
       "      <th>4</th>\n",
       "      <td>4680</td>\n",
       "      <td>2004-12-31</td>\n",
       "      <td>Jeopardy!</td>\n",
       "      <td>EPITAPHS &amp; TRIBUTES</td>\n",
       "      <td>$200</td>\n",
       "      <td>Signer of the Dec. of Indep., framer of the Co...</td>\n",
       "      <td>John Adams</td>\n",
       "    </tr>\n",
       "  </tbody>\n",
       "</table>\n",
       "</div>"
      ],
      "text/plain": [
       "   Show Number    Air Date      Round                         Category  Value  \\\n",
       "0         4680  2004-12-31  Jeopardy!                          HISTORY   $200   \n",
       "1         4680  2004-12-31  Jeopardy!  ESPN's TOP 10 ALL-TIME ATHLETES   $200   \n",
       "2         4680  2004-12-31  Jeopardy!      EVERYBODY TALKS ABOUT IT...   $200   \n",
       "3         4680  2004-12-31  Jeopardy!                 THE COMPANY LINE   $200   \n",
       "4         4680  2004-12-31  Jeopardy!              EPITAPHS & TRIBUTES   $200   \n",
       "\n",
       "                                            Question      Answer  \n",
       "0  For the last 8 years of his life, Galileo was ...  Copernicus  \n",
       "1  No. 2: 1912 Olympian; football star at Carlisl...  Jim Thorpe  \n",
       "2  The city of Yuma in this state has a record av...     Arizona  \n",
       "3  In 1963, live on \"The Art Linkletter Show\", th...  McDonald's  \n",
       "4  Signer of the Dec. of Indep., framer of the Co...  John Adams  "
      ]
     },
     "execution_count": 5,
     "metadata": {},
     "output_type": "execute_result"
    }
   ],
   "source": [
    "#print out the first 5 rows\n",
    "jeopardy.head(5)"
   ]
  },
  {
   "cell_type": "code",
   "execution_count": 6,
   "metadata": {
    "collapsed": false
   },
   "outputs": [
    {
     "data": {
      "text/plain": [
       "Index(['Show Number', ' Air Date', ' Round', ' Category', ' Value',\n",
       "       ' Question', ' Answer'],\n",
       "      dtype='object')"
      ]
     },
     "execution_count": 6,
     "metadata": {},
     "output_type": "execute_result"
    }
   ],
   "source": [
    "#print out the columns of jeopardy\n",
    "jeopardy.columns"
   ]
  },
  {
   "cell_type": "code",
   "execution_count": 7,
   "metadata": {
    "collapsed": false
   },
   "outputs": [],
   "source": [
    "#Remove spaces from each each item in the jeopardy.columns\n",
    "jeopardy.columns = jeopardy.columns.str.strip()\n"
   ]
  },
  {
   "cell_type": "markdown",
   "metadata": {},
   "source": [
    "2 · Normalizing Text"
   ]
  },
  {
   "cell_type": "markdown",
   "metadata": {
    "collapsed": true
   },
   "source": [
    "Before you can start doing analysis on the Jeopardy questions, we need to normalize all of the text columns (the Question and Answer columns)."
   ]
  },
  {
   "cell_type": "code",
   "execution_count": 8,
   "metadata": {
    "collapsed": true
   },
   "outputs": [],
   "source": [
    "import string\n",
    "\n",
    "def normalize_string(text):\n",
    "    # Convert the string to lowercase\n",
    "    normalized_text = text.lower()\n",
    "\n",
    "    # Remove punctuation from the string\n",
    "    normalized_text = normalized_text.translate(str.maketrans('', '', string.punctuation))\n",
    "    \n",
    "    return normalized_text"
   ]
  },
  {
   "cell_type": "code",
   "execution_count": 9,
   "metadata": {
    "collapsed": false
   },
   "outputs": [],
   "source": [
    "# Apply the normalization function to the Question column\n",
    "jeopardy['clean_question'] = jeopardy['Question'].apply(normalize_string)"
   ]
  },
  {
   "cell_type": "code",
   "execution_count": 10,
   "metadata": {
    "collapsed": true
   },
   "outputs": [],
   "source": [
    "# Apply the normalization function to the Answer column\n",
    "jeopardy['clean_answer'] = jeopardy['Answer'].apply(normalize_string)"
   ]
  },
  {
   "cell_type": "markdown",
   "metadata": {
    "collapsed": true
   },
   "source": [
    "3. Normalizing Columns"
   ]
  },
  {
   "cell_type": "markdown",
   "metadata": {},
   "source": [
    "The Value column should be numeric, to allow you to manipulate it easier. You'll need to remove the dollar sign from the beginning of each value and convert the column from text to numeric."
   ]
  },
  {
   "cell_type": "code",
   "execution_count": 11,
   "metadata": {
    "collapsed": true
   },
   "outputs": [],
   "source": [
    "import re\n",
    "\n",
    "def normalize_dollar_value(string):\n",
    "    # Remove punctuation from the string\n",
    "    string = re.sub(r'[^\\d]', '', string)\n",
    "    \n",
    "    try:\n",
    "        # Convert the string to an integer\n",
    "        value = int(string)\n",
    "    except ValueError:\n",
    "        # If conversion fails, assign 0\n",
    "        value = 0\n",
    "    \n",
    "    return value"
   ]
  },
  {
   "cell_type": "code",
   "execution_count": 12,
   "metadata": {
    "collapsed": false
   },
   "outputs": [],
   "source": [
    "# Apply the function to the Value column and create the clean_value column\n",
    "jeopardy['clean_value'] = jeopardy['Value'].apply(normalize_dollar_value)"
   ]
  },
  {
   "cell_type": "code",
   "execution_count": 13,
   "metadata": {
    "collapsed": true
   },
   "outputs": [],
   "source": [
    "# Convert Air Date column to datetime\n",
    "jeopardy['Air Date'] = pd.to_datetime(jeopardy['Air Date'])"
   ]
  },
  {
   "cell_type": "markdown",
   "metadata": {},
   "source": [
    "4. Answers in Questions"
   ]
  },
  {
   "cell_type": "markdown",
   "metadata": {},
   "source": [
    "In order to figure out whether to study past questions, study general knowledge, or not study it all, it would be helpful to figure out two things:\n",
    "\n",
    "1. How often the answer can be used for a question.\n",
    "2. How often questions are repeated.\n",
    "\n",
    "You can answer the second question by seeing how often complex words (> 6 characters) reoccur. You can answer the first question by seeing how many times words in the answer also occur in the question. We'll work on the first question and come back to the second."
   ]
  },
  {
   "cell_type": "code",
   "execution_count": 14,
   "metadata": {
    "collapsed": true
   },
   "outputs": [],
   "source": [
    "def calculate_match_ratio(row):\n",
    "    split_answer = row['clean_answer'].split(' ')\n",
    "    split_question = row['clean_question'].split(' ')\n",
    "    match_count = 0\n",
    "    \n",
    "    # Remove 'the' from split_answer\n",
    "    if 'the' in split_answer:\n",
    "        split_answer.remove('the')\n",
    "    \n",
    "    if len(split_answer) == 0:\n",
    "        return 0\n",
    "    \n",
    "    for word in split_answer:\n",
    "        if word in split_question:\n",
    "            match_count += 1\n",
    "    \n",
    "    match_ratio = match_count / len(split_answer)\n",
    "    return match_ratio"
   ]
  },
  {
   "cell_type": "code",
   "execution_count": 16,
   "metadata": {
    "collapsed": false
   },
   "outputs": [],
   "source": [
    "# Apply the function to each row and create the answer_in_question column\n",
    "jeopardy['answer_in_question'] = jeopardy.apply(calculate_match_ratio, axis=1)\n",
    "\n",
    "# Calculate the mean of the answer_in_question column\n",
    "mean_answer_in_question = jeopardy['answer_in_question'].mean()"
   ]
  },
  {
   "cell_type": "code",
   "execution_count": 17,
   "metadata": {
    "collapsed": false
   },
   "outputs": [
    {
     "name": "stdout",
     "output_type": "stream",
     "text": [
      "0.06035277385469894\n"
     ]
    }
   ],
   "source": [
    "print(mean_answer_in_question)"
   ]
  },
  {
   "cell_type": "markdown",
   "metadata": {},
   "source": [
    "Understanding the Mean of \"Answer in Question\"\n",
    "\n",
    "The mean of the \"answer_in_question\" column in the Jeopardy dataset provides valuable insight into the frequency at which terms from the answers appear in the corresponding questions. This information can be useful in shaping your studying strategy for Jeopardy.\n",
    "\n",
    "If the mean is relatively high, it suggests that there is a significant overlap between the answers and questions. In such cases, studying the questions more thoroughly may help you remember and recall the answers more effectively during the game.\n",
    "\n",
    "On the other hand, if the mean is low, it indicates that there is less reliance on directly using the answer terms in the questions. In this situation, focusing on understanding the broader concepts, categories, and themes related to the questions becomes crucial.\n",
    "\n",
    "By considering the mean of \"answer_in_question,\" you can tailor your studying approach accordingly. For high mean values, reinforcing the connections between answers and questions can be beneficial. For low mean values, focusing on building a deeper knowledge base and understanding the context of the questions can be more advantageous.\n",
    "\n",
    "Remember that the mean provides a general overview, and it's essential to complement it with other studying techniques such as exploring various categories, expanding your knowledge in different subject areas, and practicing buzzer timing for a well-rounded preparation strategy.\n"
   ]
  },
  {
   "cell_type": "markdown",
   "metadata": {},
   "source": [
    "5· Recycled Questions"
   ]
  },
  {
   "cell_type": "markdown",
   "metadata": {},
   "source": [
    "We want to investigate how often new questions are repeats of older ones. WE can't completely answer this, because we only have about 10% of the full Jeopardy question dataset, but we can investigate it at least"
   ]
  },
  {
   "cell_type": "code",
   "execution_count": 19,
   "metadata": {
    "collapsed": false
   },
   "outputs": [
    {
     "name": "stdout",
     "output_type": "stream",
     "text": [
      "0.6889055316620328\n"
     ]
    }
   ],
   "source": [
    "# Create an empty list and set\n",
    "question_overlap = []\n",
    "terms_used = set()\n",
    "\n",
    "# Sort jeopardy by ascending air date\n",
    "jeopardy = jeopardy.sort_values('Air Date')\n",
    "\n",
    "# Iterate through each row of jeopardy\n",
    "for index, row in jeopardy.iterrows():\n",
    "    split_question = row['clean_question'].split(' ')\n",
    "    split_question = [word for word in split_question if len(word) >= 6]\n",
    "    match_count = 0\n",
    "    \n",
    "    for word in split_question:\n",
    "        if word in terms_used:\n",
    "            match_count += 1\n",
    "        terms_used.add(word)\n",
    "    \n",
    "    if len(split_question) > 0:\n",
    "        match_count /= len(split_question)\n",
    "    \n",
    "    question_overlap.append(match_count)\n",
    "\n",
    "# Assign question_overlap to the question_overlap column of jeopardy\n",
    "jeopardy['question_overlap'] = question_overlap\n",
    "\n",
    "# Find the mean of the question_overlap column and print it\n",
    "mean_question_overlap = jeopardy['question_overlap'].mean()\n",
    "print(mean_question_overlap)\n"
   ]
  },
  {
   "cell_type": "markdown",
   "metadata": {},
   "source": [
    "### Understanding the Question Overlap and its Implications\n",
    "\n",
    "The mean value of the \"question_overlap\" column in the Jeopardy dataset provides insights into the degree of question recycling over time. This column measures the proportion of words in a question that have been used before in previous questions. A higher mean value suggests a higher likelihood of question recycling, while a lower mean value indicates less repetition.\n",
    "\n",
    "Based on the calculated mean of the \"question_overlap\" column, we can make a few observations:\n",
    "\n",
    "1. High Question Overlap: If the mean is relatively high, it implies that there is a substantial degree of question recycling occurring over time. This means that previous questions have been reused, and familiarity with past questions could potentially give an advantage in preparing for future games.\n",
    "\n",
    "2. Low Question Overlap: Conversely, if the mean is low, it suggests that there is minimal repetition of questions. This indicates a greater emphasis on creating new and unique questions, making it less likely that studying past questions alone will significantly enhance performance.\n",
    "\n",
    "It's important to note that the mean of the \"question_overlap\" column provides a general overview and doesn't provide insights into specific question categories or time periods. It's possible that certain categories or time periods may exhibit higher or lower question overlap than the overall mean.\n",
    "\n",
    "To prepare effectively for Jeopardy, considering the question overlap can help inform your studying strategy:\n",
    "\n",
    "- High overlap: Focus on reviewing and studying previous Jeopardy questions to identify common themes, topics, and recurring patterns. Familiarity with past questions can improve your chances of answering correctly.\n",
    "\n",
    "- Low overlap: Emphasize broadening your knowledge base, exploring diverse subject areas, and understanding underlying concepts rather than relying heavily on memorizing specific questions and answers.\n",
    "\n",
    "Remember that studying strategies should be well-rounded, combining category exploration, general knowledge enhancement, and regular practice with buzzer timing to succeed in the dynamic and diverse world of Jeopardy.\n"
   ]
  },
  {
   "cell_type": "markdown",
   "metadata": {},
   "source": [
    "6· Low Value vs High Value Questions"
   ]
  },
  {
   "cell_type": "markdown",
   "metadata": {},
   "source": [
    "Let's say we only want to study questions that pertain to high value questions instead of low value questions. This will help us earn more money when we are on Jeopardy.\n",
    "\n",
    "We can actually figure out which terms correspond to high-value questions using a chi-squared test. We will first need to narrow down the questions into two categories:\n",
    "\n",
    "Low value -- Any row where Value is less than 800.\n",
    "High value -- Any row where Value is greater than 800"
   ]
  },
  {
   "cell_type": "code",
   "execution_count": 20,
   "metadata": {
    "collapsed": false
   },
   "outputs": [
    {
     "name": "stdout",
     "output_type": "stream",
     "text": [
      "[(0, 1), (12, 28), (4, 2), (0, 1), (1, 0), (0, 2), (1, 3), (1, 3), (0, 1), (0, 3)]\n"
     ]
    }
   ],
   "source": [
    "import random\n",
    "from scipy.stats import chisquare\n",
    "\n",
    "# Function to categorize rows into high value (1) or low value (0)\n",
    "def categorize_value(row):\n",
    "    if row['clean_value'] > 800:\n",
    "        return 1\n",
    "    else:\n",
    "        return 0\n",
    "\n"
   ]
  },
  {
   "cell_type": "code",
   "execution_count": null,
   "metadata": {
    "collapsed": true
   },
   "outputs": [],
   "source": [
    "# Apply the function to each row and create the high_value column\n",
    "jeopardy['high_value'] = jeopardy.apply(categorize_value, axis=1)\n",
    "\n"
   ]
  },
  {
   "cell_type": "code",
   "execution_count": null,
   "metadata": {
    "collapsed": true
   },
   "outputs": [],
   "source": [
    "# Function to count occurrences of a word in high and low value questions\n",
    "def count_usage(word):\n",
    "    low_count = 0\n",
    "    high_count = 0\n",
    "\n",
    "    for index, row in jeopardy.iterrows():\n",
    "        split_question = row['clean_question'].split(' ')\n",
    "        if word in split_question:\n",
    "            if row['high_value'] == 1:\n",
    "                high_count += 1\n",
    "            else:\n",
    "                low_count += 1\n",
    "    \n",
    "    return high_count, low_count\n",
    "\n"
   ]
  },
  {
   "cell_type": "code",
   "execution_count": null,
   "metadata": {
    "collapsed": true
   },
   "outputs": [],
   "source": [
    "# Randomly select ten terms from terms_used for comparison\n",
    "comparison_terms = random.sample(terms_used, 10)\n",
    "\n"
   ]
  },
  {
   "cell_type": "code",
   "execution_count": null,
   "metadata": {
    "collapsed": true
   },
   "outputs": [],
   "source": [
    "# List to store observed and expected counts\n",
    "observed_expected = []\n",
    "\n"
   ]
  },
  {
   "cell_type": "code",
   "execution_count": 21,
   "metadata": {
    "collapsed": false
   },
   "outputs": [
    {
     "name": "stdout",
     "output_type": "stream",
     "text": [
      "[(0, 1), (12, 28), (4, 2), (0, 1), (1, 0), (0, 2), (1, 3), (1, 3), (0, 1), (0, 3), (0, 1), (12, 28), (4, 2), (0, 1), (1, 0), (0, 2), (1, 3), (1, 3), (0, 1), (0, 3)]\n"
     ]
    }
   ],
   "source": [
    "# Loop through each term and calculate observed and expected counts\n",
    "for term in comparison_terms:\n",
    "    observed_expected.append(count_usage(term))\n",
    "\n",
    "print(observed_expected)\n"
   ]
  },
  {
   "cell_type": "markdown",
   "metadata": {},
   "source": [
    "7· Applying the Chi-squared Test"
   ]
  },
  {
   "cell_type": "markdown",
   "metadata": {},
   "source": [
    "Now that you've found the observed counts for a few terms, you can compute the expected counts and the chi-squared value"
   ]
  },
  {
   "cell_type": "code",
   "execution_count": 22,
   "metadata": {
    "collapsed": false,
    "scrolled": true
   },
   "outputs": [
    {
     "name": "stdout",
     "output_type": "stream",
     "text": [
      "[Power_divergenceResult(statistic=0.401962846126884, pvalue=0.5260772985705469), Power_divergenceResult(statistic=0.034523405991355754, pvalue=0.8525978776056389), Power_divergenceResult(statistic=4.235420876606389, pvalue=0.03958880694352712), Power_divergenceResult(statistic=0.401962846126884, pvalue=0.5260772985705469), Power_divergenceResult(statistic=2.487792117195675, pvalue=0.11473257634454047), Power_divergenceResult(statistic=0.803925692253768, pvalue=0.3699222378079571), Power_divergenceResult(statistic=0.02636443308440769, pvalue=0.871013484688921), Power_divergenceResult(statistic=0.02636443308440769, pvalue=0.871013484688921), Power_divergenceResult(statistic=0.401962846126884, pvalue=0.5260772985705469), Power_divergenceResult(statistic=1.205888538380652, pvalue=0.27214791766902047), Power_divergenceResult(statistic=0.401962846126884, pvalue=0.5260772985705469), Power_divergenceResult(statistic=0.034523405991355754, pvalue=0.8525978776056389), Power_divergenceResult(statistic=4.235420876606389, pvalue=0.03958880694352712), Power_divergenceResult(statistic=0.401962846126884, pvalue=0.5260772985705469), Power_divergenceResult(statistic=2.487792117195675, pvalue=0.11473257634454047), Power_divergenceResult(statistic=0.803925692253768, pvalue=0.3699222378079571), Power_divergenceResult(statistic=0.02636443308440769, pvalue=0.871013484688921), Power_divergenceResult(statistic=0.02636443308440769, pvalue=0.871013484688921), Power_divergenceResult(statistic=0.401962846126884, pvalue=0.5260772985705469), Power_divergenceResult(statistic=1.205888538380652, pvalue=0.27214791766902047)]\n"
     ]
    }
   ],
   "source": [
    "from scipy.stats import chisquare\n",
    "\n",
    "# Find the counts of high value and low value rows\n",
    "high_value_count = len(jeopardy[jeopardy['high_value'] == 1])\n",
    "low_value_count = len(jeopardy[jeopardy['high_value'] == 0])\n",
    "\n",
    "# List to store chi-squared results\n",
    "chi_squared = []\n",
    "\n",
    "# Loop through each observed and expected count pair\n",
    "for observed in observed_expected:\n",
    "    total = sum(observed)\n",
    "    total_prop = total / len(jeopardy)\n",
    "    expected_high = total_prop * high_value_count\n",
    "    expected_low = total_prop * low_value_count\n",
    "    chi_squared.append(chisquare(observed, f_exp=[expected_high, expected_low]))\n",
    "\n",
    "print(chi_squared)\n"
   ]
  },
  {
   "cell_type": "markdown",
   "metadata": {},
   "source": [
    "### Analysis of Chi-Squared Results\n",
    "\n",
    "After performing the chi-squared test on the observed and expected counts for a sample of terms, let's examine the obtained results to identify any statistically significant findings.\n",
    "\n",
    "The chi-squared test helps determine whether there is a significant association between the occurrence of a term and its value (high or low) in Jeopardy questions. The p-value associated with each chi-squared value indicates the probability of observing the given association by chance alone. A smaller p-value suggests stronger evidence against the null hypothesis of no association.\n",
    "\n",
    "Upon reviewing the chi-squared values and associated p-values, the following observations can be made:\n",
    "\n",
    "- Statistically Significant Results: If a term has a low p-value (e.g., below a chosen significance level such as 0.05), it indicates a significant association between the term's occurrence and high/low value questions. In other words, the term is more likely to appear in either high or low value questions compared to what would be expected by chance.\n",
    "\n",
    "- Lack of Statistically Significant Results: On the other hand, if a term has a high p-value (e.g., above the significance level), it suggests that there is no significant association between the term's occurrence and the value of the questions.\n",
    "\n",
    "\n",
    "\n"
   ]
  },
  {
   "cell_type": "code",
   "execution_count": null,
   "metadata": {
    "collapsed": true
   },
   "outputs": [],
   "source": []
  }
 ],
 "metadata": {
  "kernelspec": {
   "display_name": "Python 3",
   "language": "python",
   "name": "python3"
  },
  "language_info": {
   "codemirror_mode": {
    "name": "ipython",
    "version": 3
   },
   "file_extension": ".py",
   "mimetype": "text/x-python",
   "name": "python",
   "nbconvert_exporter": "python",
   "pygments_lexer": "ipython3",
   "version": "3.4.3"
  }
 },
 "nbformat": 4,
 "nbformat_minor": 0
}
